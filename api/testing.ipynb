{
 "cells": [
  {
   "cell_type": "code",
   "execution_count": 42,
   "metadata": {},
   "outputs": [
    {
     "name": "stdout",
     "output_type": "stream",
     "text": [
      "{'message': 'Preprocessing complete', 'status': 'success'}\n"
     ]
    }
   ],
   "source": [
    "import requests\n",
    "\n",
    "response = requests.post(\"http://localhost:5001/preprocess\")\n",
    "\n",
    "print(response.json())"
   ]
  },
  {
   "cell_type": "code",
   "execution_count": null,
   "metadata": {},
   "outputs": [
    {
     "name": "stdout",
     "output_type": "stream",
     "text": [
      "{'message': 'Styled text generated', 'status': 'success', 'styled_text': 'I was born in New York City, in 1904, to a wealthy Jewish family. It was a good upbringing, a comfortable one, certainly. I spent my childhood in a world of books and ideas – a very stimulating environment, really.'}\n"
     ]
    }
   ],
   "source": [
    "import requests\n",
    "\n",
    "response = requests.post(\"http://localhost:5001/generate\", json={\n",
    "    \"question\": \"Where were you born and where did you grow up?\",\n",
    "    \"ref_file\": \"/Users/markbruckert/Desktop/School/Senior Design/titans-of-energy/api/data/voice/Test56Input.wav\",\n",
    "    \"ref_text\": \"Of course, the initial discovery and its interpretation early 1939.\",\n",
    "    \"output_file\": \"/Users/markbruckert/Desktop/School/Senior Design/titans-of-energy/api/output/voice_output.wav\"\n",
    "})\n",
    "\n",
    "print(response.json())\n",
    "\n",
    "text_response = response.json()['styled_text']"
   ]
  },
  {
   "cell_type": "code",
   "execution_count": null,
   "metadata": {},
   "outputs": [
    {
     "name": "stdout",
     "output_type": "stream",
     "text": [
      "{'audio': '/Users/markbruckert/Desktop/School/Senior Design/titans-of-energy/api/output/voice_output.wav', 'message': 'Audio generated', 'status': 'success'}\n"
     ]
    }
   ],
   "source": [
    "import requests\n",
    "\n",
    "response = requests.post(\"http://localhost:5001/generate_audio\", json={\n",
    "    \"ref_file\": \"/Users/markbruckert/Desktop/School/Senior Design/titans-of-energy/api/data/voice/Test56Input.wav\",\n",
    "    \"ref_text\": \"Of course, the initial discovery and its interpretation early 1939.\",\n",
    "    \"gen_text\": text_response,\n",
    "    \"output_file\": \"/Users/markbruckert/Desktop/School/Senior Design/titans-of-energy/api/output/voice_output.wav\"\n",
    "})\n",
    "\n",
    "print(response.json())"
   ]
  }
 ],
 "metadata": {
  "kernelspec": {
   "display_name": "titans-api",
   "language": "python",
   "name": "python3"
  },
  "language_info": {
   "codemirror_mode": {
    "name": "ipython",
    "version": 3
   },
   "file_extension": ".py",
   "mimetype": "text/x-python",
   "name": "python",
   "nbconvert_exporter": "python",
   "pygments_lexer": "ipython3",
   "version": "3.13.2"
  }
 },
 "nbformat": 4,
 "nbformat_minor": 2
}
